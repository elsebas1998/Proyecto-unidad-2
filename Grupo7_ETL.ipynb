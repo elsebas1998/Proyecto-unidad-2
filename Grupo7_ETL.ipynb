{
  "nbformat": 4,
  "nbformat_minor": 0,
  "metadata": {
    "colab": {
      "name": "Untitled4.ipynb",
      "provenance": []
    },
    "kernelspec": {
      "name": "python3",
      "display_name": "Python 3"
    },
    "language_info": {
      "name": "python"
    }
  },
  "cells": [
    {
      "cell_type": "code",
      "execution_count": 1,
      "metadata": {
        "colab": {
          "base_uri": "https://localhost:8080/"
        },
        "id": "FsGIwXVAASUv",
        "outputId": "6b783738-e474-48c1-b562-197ca2afe51c"
      },
      "outputs": [
        {
          "output_type": "execute_result",
          "data": {
            "text/plain": [
              "Engine(sqlite:///chinook.db)"
            ]
          },
          "metadata": {},
          "execution_count": 1
        }
      ],
      "source": [
        "# I'm not extracting from a source system, but I'm connecting to my database file with sqlite here.\n",
        "\n",
        "# Import statements\n",
        "import sqlalchemy\n",
        "from sqlalchemy import create_engine\n",
        "from sqlalchemy import Table, Column, Integer, String, MetaData, ForeignKey\n",
        "from sqlalchemy import inspect\n",
        "\n",
        "# Connect the engine to the database file we'll be using\n",
        "engine = create_engine('sqlite:///chinook.db')\n",
        "engine"
      ]
    },
    {
      "cell_type": "code",
      "source": [
        "# SQL Expression Language creates metadata that contains objects that define the customers table\n",
        "metadata = MetaData()\n",
        "\n",
        "# This method instantiates the tables that already \n",
        "# exist in the database, which the engine is connected to. \n",
        "metadata.create_all(engine)\n",
        "\n",
        "# Checking this out, we can see the table structure and variable types for the employees table\n",
        "inspector = inspect(engine)\n",
        "\n",
        "# Checked out the columns in the employees table\n",
        "inspector.get_columns('employees')"
      ],
      "metadata": {
        "colab": {
          "base_uri": "https://localhost:8080/"
        },
        "id": "r5ocXY1-Ahjh",
        "outputId": "650ea57b-ed24-41f4-e44a-8c940a6d24de"
      },
      "execution_count": 2,
      "outputs": [
        {
          "output_type": "execute_result",
          "data": {
            "text/plain": [
              "[{'autoincrement': 'auto',\n",
              "  'default': None,\n",
              "  'name': 'EmployeeId',\n",
              "  'nullable': False,\n",
              "  'primary_key': 1,\n",
              "  'type': INTEGER()},\n",
              " {'autoincrement': 'auto',\n",
              "  'default': None,\n",
              "  'name': 'LastName',\n",
              "  'nullable': False,\n",
              "  'primary_key': 0,\n",
              "  'type': NVARCHAR(length=20)},\n",
              " {'autoincrement': 'auto',\n",
              "  'default': None,\n",
              "  'name': 'FirstName',\n",
              "  'nullable': False,\n",
              "  'primary_key': 0,\n",
              "  'type': NVARCHAR(length=20)},\n",
              " {'autoincrement': 'auto',\n",
              "  'default': None,\n",
              "  'name': 'Title',\n",
              "  'nullable': True,\n",
              "  'primary_key': 0,\n",
              "  'type': NVARCHAR(length=30)},\n",
              " {'autoincrement': 'auto',\n",
              "  'default': None,\n",
              "  'name': 'ReportsTo',\n",
              "  'nullable': True,\n",
              "  'primary_key': 0,\n",
              "  'type': INTEGER()},\n",
              " {'autoincrement': 'auto',\n",
              "  'default': None,\n",
              "  'name': 'BirthDate',\n",
              "  'nullable': True,\n",
              "  'primary_key': 0,\n",
              "  'type': DATETIME()},\n",
              " {'autoincrement': 'auto',\n",
              "  'default': None,\n",
              "  'name': 'HireDate',\n",
              "  'nullable': True,\n",
              "  'primary_key': 0,\n",
              "  'type': DATETIME()},\n",
              " {'autoincrement': 'auto',\n",
              "  'default': None,\n",
              "  'name': 'Address',\n",
              "  'nullable': True,\n",
              "  'primary_key': 0,\n",
              "  'type': NVARCHAR(length=70)},\n",
              " {'autoincrement': 'auto',\n",
              "  'default': None,\n",
              "  'name': 'City',\n",
              "  'nullable': True,\n",
              "  'primary_key': 0,\n",
              "  'type': NVARCHAR(length=40)},\n",
              " {'autoincrement': 'auto',\n",
              "  'default': None,\n",
              "  'name': 'State',\n",
              "  'nullable': True,\n",
              "  'primary_key': 0,\n",
              "  'type': NVARCHAR(length=40)},\n",
              " {'autoincrement': 'auto',\n",
              "  'default': None,\n",
              "  'name': 'Country',\n",
              "  'nullable': True,\n",
              "  'primary_key': 0,\n",
              "  'type': NVARCHAR(length=40)},\n",
              " {'autoincrement': 'auto',\n",
              "  'default': None,\n",
              "  'name': 'PostalCode',\n",
              "  'nullable': True,\n",
              "  'primary_key': 0,\n",
              "  'type': NVARCHAR(length=10)},\n",
              " {'autoincrement': 'auto',\n",
              "  'default': None,\n",
              "  'name': 'Phone',\n",
              "  'nullable': True,\n",
              "  'primary_key': 0,\n",
              "  'type': NVARCHAR(length=24)},\n",
              " {'autoincrement': 'auto',\n",
              "  'default': None,\n",
              "  'name': 'Fax',\n",
              "  'nullable': True,\n",
              "  'primary_key': 0,\n",
              "  'type': NVARCHAR(length=24)},\n",
              " {'autoincrement': 'auto',\n",
              "  'default': None,\n",
              "  'name': 'Email',\n",
              "  'nullable': True,\n",
              "  'primary_key': 0,\n",
              "  'type': NVARCHAR(length=60)}]"
            ]
          },
          "metadata": {},
          "execution_count": 2
        }
      ]
    },
    {
      "cell_type": "code",
      "source": [
        "# Let's execute raw SQL on some tables using SQLAlchemy\n",
        "with engine.connect() as con:\n",
        "    \n",
        "    rs = con.execute('SELECT * FROM employees')\n",
        "    \n",
        "    for row in rs:\n",
        "        print(row)\n",
        "        \n",
        "# Don't forget to close your connection to the database when the query is done\n",
        "con.close()"
      ],
      "metadata": {
        "colab": {
          "base_uri": "https://localhost:8080/"
        },
        "id": "lJVw_CdjAk1p",
        "outputId": "e9a01e2a-ad48-4821-afb8-ce1b5275de34"
      },
      "execution_count": 3,
      "outputs": [
        {
          "output_type": "stream",
          "name": "stdout",
          "text": [
            "(1, 'Adams', 'Andrew', 'General Manager', None, '1962-02-18 00:00:00', '2002-08-14 00:00:00', '11120 Jasper Ave NW', 'Edmonton', 'AB', 'Canada', 'T5K 2N1', '+1 (780) 428-9482', '+1 (780) 428-3457', 'andrew@chinookcorp.com')\n",
            "(2, 'Edwards', 'Nancy', 'Sales Manager', 1, '1958-12-08 00:00:00', '2002-05-01 00:00:00', '825 8 Ave SW', 'Calgary', 'AB', 'Canada', 'T2P 2T3', '+1 (403) 262-3443', '+1 (403) 262-3322', 'nancy@chinookcorp.com')\n",
            "(3, 'Peacock', 'Jane', 'Sales Support Agent', 2, '1973-08-29 00:00:00', '2002-04-01 00:00:00', '1111 6 Ave SW', 'Calgary', 'AB', 'Canada', 'T2P 5M5', '+1 (403) 262-3443', '+1 (403) 262-6712', 'jane@chinookcorp.com')\n",
            "(4, 'Park', 'Margaret', 'Sales Support Agent', 2, '1947-09-19 00:00:00', '2003-05-03 00:00:00', '683 10 Street SW', 'Calgary', 'AB', 'Canada', 'T2P 5G3', '+1 (403) 263-4423', '+1 (403) 263-4289', 'margaret@chinookcorp.com')\n",
            "(5, 'Johnson', 'Steve', 'Sales Support Agent', 2, '1965-03-03 00:00:00', '2003-10-17 00:00:00', '7727B 41 Ave', 'Calgary', 'AB', 'Canada', 'T3B 1Y7', '1 (780) 836-9987', '1 (780) 836-9543', 'steve@chinookcorp.com')\n",
            "(6, 'Mitchell', 'Michael', 'IT Manager', 1, '1973-07-01 00:00:00', '2003-10-17 00:00:00', '5827 Bowness Road NW', 'Calgary', 'AB', 'Canada', 'T3B 0C5', '+1 (403) 246-9887', '+1 (403) 246-9899', 'michael@chinookcorp.com')\n",
            "(7, 'King', 'Robert', 'IT Staff', 6, '1970-05-29 00:00:00', '2004-01-02 00:00:00', '590 Columbia Boulevard West', 'Lethbridge', 'AB', 'Canada', 'T1K 5N8', '+1 (403) 456-9986', '+1 (403) 456-8485', 'robert@chinookcorp.com')\n",
            "(8, 'Callahan', 'Laura', 'IT Staff', 6, '1968-01-09 00:00:00', '2004-03-04 00:00:00', '923 7 ST NW', 'Lethbridge', 'AB', 'Canada', 'T1H 1Y8', '+1 (403) 467-3351', '+1 (403) 467-8772', 'laura@chinookcorp.com')\n"
          ]
        }
      ]
    },
    {
      "cell_type": "code",
      "source": [
        "# How many employees are there?\n",
        "with engine.connect() as con:\n",
        "    \n",
        "    rs = con.execute(\"\"\"SELECT COUNT(EmployeeId) \n",
        "    FROM employees;\"\"\")\n",
        "    \n",
        "    for row in rs:\n",
        "        print(row)\n",
        "        \n",
        "con.close()"
      ],
      "metadata": {
        "colab": {
          "base_uri": "https://localhost:8080/"
        },
        "id": "kp9QDXMbAnK8",
        "outputId": "6508be02-6f07-4e42-deba-95a2dc7c1850"
      },
      "execution_count": 4,
      "outputs": [
        {
          "output_type": "stream",
          "name": "stdout",
          "text": [
            "(8,)\n"
          ]
        }
      ]
    },
    {
      "cell_type": "code",
      "source": [
        "# How many employees are there?\n",
        "with engine.connect() as con:\n",
        "    \n",
        "    rs = con.execute(\"\"\"SELECT COUNT(EmployeeId) \n",
        "    FROM employees;\"\"\")\n",
        "    \n",
        "    for row in rs:\n",
        "        print(row)\n",
        "        \n",
        "con.close()"
      ],
      "metadata": {
        "colab": {
          "base_uri": "https://localhost:8080/"
        },
        "id": "eP-ROXNFAoy5",
        "outputId": "c64b13ba-2689-4b8b-eeda-d2ed4e887895"
      },
      "execution_count": 5,
      "outputs": [
        {
          "output_type": "stream",
          "name": "stdout",
          "text": [
            "(8,)\n"
          ]
        }
      ]
    },
    {
      "cell_type": "code",
      "source": [
        "with engine.connect() as con:\n",
        "    \n",
        "    rs = con.execute(\"\"\"SELECT HireDate, EmployeeId\n",
        "    FROM employees\n",
        "    WHERE EmployeeId BETWEEN 3 AND 5\n",
        "    ORDER BY HireDate ASC\"\"\")\n",
        "    \n",
        "    for row in rs:\n",
        "        print(row)"
      ],
      "metadata": {
        "colab": {
          "base_uri": "https://localhost:8080/"
        },
        "id": "9RqbSgwaArl-",
        "outputId": "68f11774-6f09-443d-ff31-80959eda6861"
      },
      "execution_count": 6,
      "outputs": [
        {
          "output_type": "stream",
          "name": "stdout",
          "text": [
            "('2002-04-01 00:00:00', 3)\n",
            "('2003-05-03 00:00:00', 4)\n",
            "('2003-10-17 00:00:00', 5)\n"
          ]
        }
      ]
    },
    {
      "cell_type": "code",
      "source": [
        "with engine.connect() as con:\n",
        "    \n",
        "    rs = con.execute(\"\"\"SELECT MIN(HireDate), EmployeeId\n",
        "    FROM employees;\"\"\")\n",
        "    \n",
        "    for row in rs:\n",
        "        print(row)\n",
        "        \n",
        "con.close()"
      ],
      "metadata": {
        "colab": {
          "base_uri": "https://localhost:8080/"
        },
        "id": "n6GtkzI6Ax06",
        "outputId": "265cb7ab-9674-475e-9037-a90d923b1a08"
      },
      "execution_count": 7,
      "outputs": [
        {
          "output_type": "stream",
          "name": "stdout",
          "text": [
            "('2002-04-01 00:00:00', 3)\n"
          ]
        }
      ]
    },
    {
      "cell_type": "code",
      "source": [
        "# How many customers did each sales rep help?\n",
        "with engine.connect() as con:\n",
        "    \n",
        "    rs = con.execute(\"\"\"SELECT COUNT(SupportRepId)\n",
        "    FROM customers\n",
        "    GROUP BY SupportRepId;\"\"\")\n",
        "    \n",
        "    for row in rs:\n",
        "        print(row)\n",
        "        \n",
        "con.close()"
      ],
      "metadata": {
        "colab": {
          "base_uri": "https://localhost:8080/"
        },
        "id": "_nS6FXwGBtaR",
        "outputId": "f03f8424-dd2b-4c1a-df89-e7a87d48d40d"
      },
      "execution_count": 8,
      "outputs": [
        {
          "output_type": "stream",
          "name": "stdout",
          "text": [
            "(21,)\n",
            "(20,)\n",
            "(18,)\n"
          ]
        }
      ]
    },
    {
      "cell_type": "code",
      "source": [
        "with engine.connect() as con:\n",
        "    \n",
        "    rs = con.execute(\"\"\"SELECT HireDate, EmployeeId\n",
        "    FROM employees\n",
        "    WHERE EmployeeId BETWEEN 3 AND 5\n",
        "    ORDER BY HireDate ASC\"\"\")\n",
        "    \n",
        "    for row in rs:\n",
        "        print(row)"
      ],
      "metadata": {
        "colab": {
          "base_uri": "https://localhost:8080/"
        },
        "id": "lZXLKH22Cnt9",
        "outputId": "bbdbe77f-15d9-4e07-bc6f-80d7be659b2a"
      },
      "execution_count": 9,
      "outputs": [
        {
          "output_type": "stream",
          "name": "stdout",
          "text": [
            "('2002-04-01 00:00:00', 3)\n",
            "('2003-05-03 00:00:00', 4)\n",
            "('2003-10-17 00:00:00', 5)\n"
          ]
        }
      ]
    },
    {
      "cell_type": "code",
      "source": [
        "with engine.connect() as con:\n",
        "    \n",
        "    # Grab the variables you want then inner join them on the respective private keys\n",
        "    rs = con.execute(\n",
        "    \"\"\"SELECT\n",
        "    invoices.InvoiceId AS invid, \n",
        "    invoices.CustomerId AS invcustid, \n",
        "    customers.CustomerId AS custcustid,\n",
        "    COUNT(customers.CustomerId) AS numcustomers,\n",
        "    customers.Country as country,\n",
        "    invoice_items.InvoiceId AS invitemid,\n",
        "    \n",
        "    invoice_items.TrackId AS invtrackid,\n",
        "    tracks.TrackId AS tracktrackid, \n",
        "    tracks.GenreId AS trackgenreid, \n",
        "    tracks.Bytes AS trackbytes, \n",
        "    SUM(tracks.Milliseconds) / 1000 / 60 AS minutes\n",
        "    \n",
        "    FROM \n",
        "    invoices INNER JOIN customers ON invcustid=custcustid\n",
        "    INNER JOIN invoice_items ON invitemid=invid\n",
        "    INNER JOIN tracks ON tracktrackid=invtrackid\n",
        "    \n",
        "    GROUP BY country\n",
        "    \n",
        "    ORDER BY minutes DESC\n",
        "    \n",
        "    \"\"\"\n",
        "    )\n",
        "    \n",
        "    for row in rs:\n",
        "        print(row)\n",
        "\n",
        "con.close()"
      ],
      "metadata": {
        "colab": {
          "base_uri": "https://localhost:8080/"
        },
        "id": "bGg67mFwCzzc",
        "outputId": "5000e047-5adf-403c-dc97-e943742eb688"
      },
      "execution_count": 10,
      "outputs": [
        {
          "output_type": "stream",
          "name": "stdout",
          "text": [
            "(363, 28, 28, 494, 'USA', 363, 1553, 1553, 3, 9962558, 3277)\n",
            "(388, 33, 33, 304, 'Canada', 388, 2287, 2287, 4, 7373181, 1438)\n",
            "(368, 43, 43, 190, 'France', 368, 1645, 1645, 1, 7236640, 1168)\n",
            "(291, 38, 38, 152, 'Germany', 291, 2596, 2596, 4, 6399872, 914)\n",
            "(319, 13, 13, 190, 'Brazil', 319, 21, 21, 1, 8331286, 881)\n",
            "(404, 6, 6, 76, 'Czech Republic', 404, 2931, 2931, 1, 11527614, 879)\n",
            "(314, 57, 57, 38, 'Chile', 314, 3432, 3432, 24, 8916313, 525)\n",
            "(381, 54, 54, 114, 'United Kingdom', 381, 2055, 2055, 7, 5857116, 506)\n",
            "(401, 46, 46, 38, 'Ireland', 401, 2727, 2727, 4, 9601786, 476)\n",
            "(410, 35, 35, 76, 'Portugal', 410, 3037, 3037, 1, 9258717, 429)\n",
            "(284, 59, 59, 74, 'India', 284, 2364, 2364, 4, 7971384, 417)\n",
            "(377, 45, 45, 38, 'Hungary', 377, 2017, 2017, 1, 7354184, 380)\n",
            "(370, 7, 7, 38, 'Austria', 370, 1785, 1785, 14, 8888206, 374)\n",
            "(411, 44, 44, 38, 'Finland', 411, 3163, 3163, 7, 5121366, 355)\n",
            "(390, 48, 48, 38, 'Netherlands', 390, 2467, 2467, 1, 8222095, 305)\n",
            "(392, 4, 4, 38, 'Norway', 392, 2483, 2483, 4, 12133825, 268)\n",
            "(326, 51, 51, 38, 'Sweden', 326, 253, 253, 7, 9670057, 244)\n",
            "(305, 55, 55, 38, 'Australia', 305, 3060, 3060, 1, 7453043, 202)\n",
            "(356, 49, 49, 38, 'Poland', 356, 1321, 1321, 1, 10751410, 179)\n",
            "(340, 9, 9, 38, 'Denmark', 340, 717, 717, 7, 8376000, 172)\n",
            "(394, 8, 8, 38, 'Belgium', 394, 2495, 2495, 4, 8431747, 169)\n",
            "(402, 50, 50, 38, 'Spain', 402, 2751, 2751, 7, 4152604, 161)\n",
            "(403, 56, 56, 38, 'Argentina', 403, 2805, 2805, 4, 8073248, 149)\n",
            "(347, 47, 47, 38, 'Italy', 347, 949, 949, 1, 4524972, 138)\n"
          ]
        }
      ]
    },
    {
      "cell_type": "code",
      "source": [
        "# Connecting the query to pd.read_sql_query. To simplify, you could modify the query to create\n",
        "# a table and then just do pd.read_sql_table in to the dataframe.\n",
        "import pandas as pd\n",
        "df = pd.read_sql_query(\"\"\"SELECT\n",
        "    invoices.InvoiceId AS invid, \n",
        "    invoices.CustomerId AS invcustid, \n",
        "    customers.CustomerId AS custcustid,\n",
        "    COUNT(customers.CustomerId) AS numcustomers,\n",
        "    customers.Country as country,\n",
        "    invoice_items.InvoiceId AS invitemid,\n",
        "    \n",
        "    invoice_items.TrackId AS invtrackid,\n",
        "    tracks.TrackId AS tracktrackid, \n",
        "    tracks.GenreId AS trackgenreid, \n",
        "    tracks.Bytes AS trackbytes, \n",
        "    SUM(tracks.Milliseconds) / 1000 / 60 AS minutes\n",
        "    \n",
        "    FROM \n",
        "    invoices INNER JOIN customers ON invcustid=custcustid\n",
        "    INNER JOIN invoice_items ON invitemid=invid\n",
        "    INNER JOIN tracks ON tracktrackid=invtrackid\n",
        "    \n",
        "    GROUP BY country\n",
        "    \n",
        "    ORDER BY minutes DESC\n",
        "    \n",
        "    \"\"\", con=engine.connect())"
      ],
      "metadata": {
        "id": "kmM29yNkC481"
      },
      "execution_count": 11,
      "outputs": []
    },
    {
      "cell_type": "code",
      "source": [
        "df.head()"
      ],
      "metadata": {
        "colab": {
          "base_uri": "https://localhost:8080/",
          "height": 206
        },
        "id": "JNndvCC-E8Du",
        "outputId": "143b50e0-0c18-4e6a-dde8-58847fa4ea4c"
      },
      "execution_count": 13,
      "outputs": [
        {
          "output_type": "execute_result",
          "data": {
            "text/html": [
              "\n",
              "  <div id=\"df-ae526351-8784-49f4-bbbb-409305dcda82\">\n",
              "    <div class=\"colab-df-container\">\n",
              "      <div>\n",
              "<style scoped>\n",
              "    .dataframe tbody tr th:only-of-type {\n",
              "        vertical-align: middle;\n",
              "    }\n",
              "\n",
              "    .dataframe tbody tr th {\n",
              "        vertical-align: top;\n",
              "    }\n",
              "\n",
              "    .dataframe thead th {\n",
              "        text-align: right;\n",
              "    }\n",
              "</style>\n",
              "<table border=\"1\" class=\"dataframe\">\n",
              "  <thead>\n",
              "    <tr style=\"text-align: right;\">\n",
              "      <th></th>\n",
              "      <th>invid</th>\n",
              "      <th>invcustid</th>\n",
              "      <th>custcustid</th>\n",
              "      <th>numcustomers</th>\n",
              "      <th>country</th>\n",
              "      <th>invitemid</th>\n",
              "      <th>invtrackid</th>\n",
              "      <th>tracktrackid</th>\n",
              "      <th>trackgenreid</th>\n",
              "      <th>trackbytes</th>\n",
              "      <th>minutes</th>\n",
              "    </tr>\n",
              "  </thead>\n",
              "  <tbody>\n",
              "    <tr>\n",
              "      <th>0</th>\n",
              "      <td>363</td>\n",
              "      <td>28</td>\n",
              "      <td>28</td>\n",
              "      <td>494</td>\n",
              "      <td>USA</td>\n",
              "      <td>363</td>\n",
              "      <td>1553</td>\n",
              "      <td>1553</td>\n",
              "      <td>3</td>\n",
              "      <td>9962558</td>\n",
              "      <td>3277</td>\n",
              "    </tr>\n",
              "    <tr>\n",
              "      <th>1</th>\n",
              "      <td>388</td>\n",
              "      <td>33</td>\n",
              "      <td>33</td>\n",
              "      <td>304</td>\n",
              "      <td>Canada</td>\n",
              "      <td>388</td>\n",
              "      <td>2287</td>\n",
              "      <td>2287</td>\n",
              "      <td>4</td>\n",
              "      <td>7373181</td>\n",
              "      <td>1438</td>\n",
              "    </tr>\n",
              "    <tr>\n",
              "      <th>2</th>\n",
              "      <td>368</td>\n",
              "      <td>43</td>\n",
              "      <td>43</td>\n",
              "      <td>190</td>\n",
              "      <td>France</td>\n",
              "      <td>368</td>\n",
              "      <td>1645</td>\n",
              "      <td>1645</td>\n",
              "      <td>1</td>\n",
              "      <td>7236640</td>\n",
              "      <td>1168</td>\n",
              "    </tr>\n",
              "    <tr>\n",
              "      <th>3</th>\n",
              "      <td>291</td>\n",
              "      <td>38</td>\n",
              "      <td>38</td>\n",
              "      <td>152</td>\n",
              "      <td>Germany</td>\n",
              "      <td>291</td>\n",
              "      <td>2596</td>\n",
              "      <td>2596</td>\n",
              "      <td>4</td>\n",
              "      <td>6399872</td>\n",
              "      <td>914</td>\n",
              "    </tr>\n",
              "    <tr>\n",
              "      <th>4</th>\n",
              "      <td>319</td>\n",
              "      <td>13</td>\n",
              "      <td>13</td>\n",
              "      <td>190</td>\n",
              "      <td>Brazil</td>\n",
              "      <td>319</td>\n",
              "      <td>21</td>\n",
              "      <td>21</td>\n",
              "      <td>1</td>\n",
              "      <td>8331286</td>\n",
              "      <td>881</td>\n",
              "    </tr>\n",
              "  </tbody>\n",
              "</table>\n",
              "</div>\n",
              "      <button class=\"colab-df-convert\" onclick=\"convertToInteractive('df-ae526351-8784-49f4-bbbb-409305dcda82')\"\n",
              "              title=\"Convert this dataframe to an interactive table.\"\n",
              "              style=\"display:none;\">\n",
              "        \n",
              "  <svg xmlns=\"http://www.w3.org/2000/svg\" height=\"24px\"viewBox=\"0 0 24 24\"\n",
              "       width=\"24px\">\n",
              "    <path d=\"M0 0h24v24H0V0z\" fill=\"none\"/>\n",
              "    <path d=\"M18.56 5.44l.94 2.06.94-2.06 2.06-.94-2.06-.94-.94-2.06-.94 2.06-2.06.94zm-11 1L8.5 8.5l.94-2.06 2.06-.94-2.06-.94L8.5 2.5l-.94 2.06-2.06.94zm10 10l.94 2.06.94-2.06 2.06-.94-2.06-.94-.94-2.06-.94 2.06-2.06.94z\"/><path d=\"M17.41 7.96l-1.37-1.37c-.4-.4-.92-.59-1.43-.59-.52 0-1.04.2-1.43.59L10.3 9.45l-7.72 7.72c-.78.78-.78 2.05 0 2.83L4 21.41c.39.39.9.59 1.41.59.51 0 1.02-.2 1.41-.59l7.78-7.78 2.81-2.81c.8-.78.8-2.07 0-2.86zM5.41 20L4 18.59l7.72-7.72 1.47 1.35L5.41 20z\"/>\n",
              "  </svg>\n",
              "      </button>\n",
              "      \n",
              "  <style>\n",
              "    .colab-df-container {\n",
              "      display:flex;\n",
              "      flex-wrap:wrap;\n",
              "      gap: 12px;\n",
              "    }\n",
              "\n",
              "    .colab-df-convert {\n",
              "      background-color: #E8F0FE;\n",
              "      border: none;\n",
              "      border-radius: 50%;\n",
              "      cursor: pointer;\n",
              "      display: none;\n",
              "      fill: #1967D2;\n",
              "      height: 32px;\n",
              "      padding: 0 0 0 0;\n",
              "      width: 32px;\n",
              "    }\n",
              "\n",
              "    .colab-df-convert:hover {\n",
              "      background-color: #E2EBFA;\n",
              "      box-shadow: 0px 1px 2px rgba(60, 64, 67, 0.3), 0px 1px 3px 1px rgba(60, 64, 67, 0.15);\n",
              "      fill: #174EA6;\n",
              "    }\n",
              "\n",
              "    [theme=dark] .colab-df-convert {\n",
              "      background-color: #3B4455;\n",
              "      fill: #D2E3FC;\n",
              "    }\n",
              "\n",
              "    [theme=dark] .colab-df-convert:hover {\n",
              "      background-color: #434B5C;\n",
              "      box-shadow: 0px 1px 3px 1px rgba(0, 0, 0, 0.15);\n",
              "      filter: drop-shadow(0px 1px 2px rgba(0, 0, 0, 0.3));\n",
              "      fill: #FFFFFF;\n",
              "    }\n",
              "  </style>\n",
              "\n",
              "      <script>\n",
              "        const buttonEl =\n",
              "          document.querySelector('#df-ae526351-8784-49f4-bbbb-409305dcda82 button.colab-df-convert');\n",
              "        buttonEl.style.display =\n",
              "          google.colab.kernel.accessAllowed ? 'block' : 'none';\n",
              "\n",
              "        async function convertToInteractive(key) {\n",
              "          const element = document.querySelector('#df-ae526351-8784-49f4-bbbb-409305dcda82');\n",
              "          const dataTable =\n",
              "            await google.colab.kernel.invokeFunction('convertToInteractive',\n",
              "                                                     [key], {});\n",
              "          if (!dataTable) return;\n",
              "\n",
              "          const docLinkHtml = 'Like what you see? Visit the ' +\n",
              "            '<a target=\"_blank\" href=https://colab.research.google.com/notebooks/data_table.ipynb>data table notebook</a>'\n",
              "            + ' to learn more about interactive tables.';\n",
              "          element.innerHTML = '';\n",
              "          dataTable['output_type'] = 'display_data';\n",
              "          await google.colab.output.renderOutput(dataTable, element);\n",
              "          const docLink = document.createElement('div');\n",
              "          docLink.innerHTML = docLinkHtml;\n",
              "          element.appendChild(docLink);\n",
              "        }\n",
              "      </script>\n",
              "    </div>\n",
              "  </div>\n",
              "  "
            ],
            "text/plain": [
              "   invid  invcustid  custcustid  ...  trackgenreid trackbytes  minutes\n",
              "0    363         28          28  ...             3    9962558     3277\n",
              "1    388         33          33  ...             4    7373181     1438\n",
              "2    368         43          43  ...             1    7236640     1168\n",
              "3    291         38          38  ...             4    6399872      914\n",
              "4    319         13          13  ...             1    8331286      881\n",
              "\n",
              "[5 rows x 11 columns]"
            ]
          },
          "metadata": {},
          "execution_count": 13
        }
      ]
    }
  ]
}